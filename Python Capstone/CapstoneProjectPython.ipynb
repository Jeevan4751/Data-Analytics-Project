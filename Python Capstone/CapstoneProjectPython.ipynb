{
 "cells": [
  {
   "cell_type": "code",
   "execution_count": 287,
   "id": "f06d7518-1942-4f5a-9c02-e11e3d6b6a92",
   "metadata": {},
   "outputs": [],
   "source": [
    "#Task 1: Create DataFrames and Save as CSV"
   ]
  },
  {
   "cell_type": "code",
   "execution_count": 289,
   "id": "3d616e4e-4de2-49ad-b582-68b2ed500310",
   "metadata": {},
   "outputs": [
    {
     "name": "stdout",
     "output_type": "stream",
     "text": [
      "\n",
      " Project DataFrame :\n",
      "       ID     Project       Cost    Status\n",
      "0   A001   Project 1  1002000.0  Finished\n",
      "1   A002   Project 2  2000000.0   Ongoing\n",
      "2   A003   Project 3  4500000.0  Finished\n",
      "3   A004   Project 4  5500000.0   Ongoing\n",
      "4   A005   Project 5        NaN  Finished\n",
      "5   A002   Project 6   680000.0    Failed\n",
      "6   A005   Project 7   400000.0  Finished\n",
      "7   A003   Project 8   350000.0    Failed\n",
      "8   A001   Project 9        NaN   Ongoing\n",
      "9   A003  Project 10   300000.0  Finished\n",
      "10  A001  Project 11  2000000.0    Failed\n",
      "11  A004  Project 12  1000000.0   Ongoing\n",
      "12  A004  Project 13  3000000.0  Finished\n",
      "13  A005  Project 14   200000.0  Finished\n",
      "\n",
      " Employee DataFrame :\n",
      "      ID             Name Gender     City  Age\n",
      "0  A001       John Alter      M    Paris   25\n",
      "1  A002  Alice Luxumberg      F   London   27\n",
      "2  A003    Tom Sabestine      M   Berlin   29\n",
      "3  A004       Nina Adgra      F  Newyork   31\n",
      "4  A005        Amy Johny      F   Madrid   30\n",
      "\n",
      " Seniority DataFrame :\n",
      "      ID  Designation Level\n",
      "0  A001                  2\n",
      "1  A002                  2\n",
      "2  A003                  3\n",
      "3  A004                  2\n",
      "4  A005                  3\n"
     ]
    }
   ],
   "source": [
    "import pandas as pd\n",
    "\n",
    "#creating the Project DataFrame\n",
    "project_data = {\n",
    "    'ID': ['A001', 'A002', 'A003', 'A004', 'A005', 'A002', 'A005', 'A003', 'A001', 'A003', 'A001', 'A004', 'A004', 'A005'],\n",
    "    'Project': ['Project 1', 'Project 2', 'Project 3', 'Project 4', 'Project 5', 'Project 6', 'Project 7', 'Project 8', 'Project 9', 'Project 10', 'Project 11', 'Project 12', 'Project 13', 'Project 14'],\n",
    "    'Cost': [1002000, 2000000, 4500000, 5500000, None, 680000, 400000, 350000, None, 300000, 2000000, 1000000, 3000000, 200000],\n",
    "    'Status': ['Finished', 'Ongoing', 'Finished', 'Ongoing', 'Finished', 'Failed', 'Finished', 'Failed', 'Ongoing', 'Finished', 'Failed', 'Ongoing', 'Finished', 'Finished']\n",
    "}\n",
    "\n",
    "# Convert the dictionary into a Pandas DataFrame\n",
    "project_df = pd.DataFrame(project_data)\n",
    "\n",
    "# Save the DataFrame to a CSV file named 'project.csv' without including the index column\n",
    "project_df.to_csv('project.csv', index=False)\n",
    "print(\"\\n Project DataFrame :\\n\",project_df)\n",
    "\n",
    "\n",
    "# Creating the Employee DataFrame\n",
    "employee_data = {\n",
    "    'ID': ['A001', 'A002', 'A003', 'A004', 'A005'],\n",
    "    'Name': ['John Alter', 'Alice Luxumberg', 'Tom Sabestine', 'Nina Adgra', 'Amy Johny'],\n",
    "    'Gender': ['M', 'F', 'M', 'F', 'F'],\n",
    "    'City': ['Paris', 'London', 'Berlin', 'Newyork', 'Madrid'],\n",
    "    'Age': [25, 27, 29, 31, 30]\n",
    "}\n",
    "\n",
    "employee_df = pd.DataFrame(employee_data)\n",
    "employee_df.to_csv('employee.csv', index=False)\n",
    "print(\"\\n Employee DataFrame :\\n\",employee_df)\n",
    "\n",
    "# Creating the Seniority Level DataFrame\n",
    "seniority_data = {\n",
    "    'ID': ['A001', 'A002', 'A003', 'A004', 'A005'],\n",
    "    'Designation Level': [2, 2, 3, 2, 3]\n",
    "}\n",
    "\n",
    "seniority_df = pd.DataFrame(seniority_data)\n",
    "seniority_df.to_csv('seniority.csv', index=False)\n",
    "print(\"\\n Seniority DataFrame :\\n\",seniority_df)"
   ]
  },
  {
   "cell_type": "code",
   "execution_count": 291,
   "id": "a6617e9f-5a0b-4407-b5de-dfcb1e44aa7e",
   "metadata": {},
   "outputs": [],
   "source": [
    "#Task 2: Replace Missing Values in \"Cost\" Column with Running Average"
   ]
  },
  {
   "cell_type": "code",
   "execution_count": 293,
   "id": "f7f142a4-6b4c-4be6-9990-c0b9396d74c0",
   "metadata": {},
   "outputs": [
    {
     "name": "stdout",
     "output_type": "stream",
     "text": [
      "      ID     Project          Cost    Status\n",
      "0   A001   Project 1  1.002000e+06  Finished\n",
      "1   A002   Project 2  2.000000e+06   Ongoing\n",
      "2   A003   Project 3  4.500000e+06  Finished\n",
      "3   A004   Project 4  5.500000e+06   Ongoing\n",
      "4   A005   Project 5  3.250500e+06  Finished\n",
      "5   A002   Project 6  6.800000e+05    Failed\n",
      "6   A005   Project 7  4.000000e+05  Finished\n",
      "7   A003   Project 8  3.500000e+05    Failed\n",
      "8   A001   Project 9  2.061714e+06   Ongoing\n",
      "9   A003  Project 10  3.000000e+05  Finished\n",
      "10  A001  Project 11  2.000000e+06    Failed\n",
      "11  A004  Project 12  1.000000e+06   Ongoing\n",
      "12  A004  Project 13  3.000000e+06  Finished\n",
      "13  A005  Project 14  2.000000e+05  Finished\n"
     ]
    }
   ],
   "source": [
    "import pandas as pd\n",
    "import numpy as np\n",
    "\n",
    "# Load the Project DataFrame from the CSV file\n",
    "project_df = pd.read_csv('Project.csv')\n",
    "\n",
    "# Calculate the running average using a for loop\n",
    "cost_sum = 0\n",
    "count = 0\n",
    "\n",
    "for i in range(len(project_df)):\n",
    "    if pd.isna(project_df.at[i, 'Cost']):\n",
    "        if count == 0:\n",
    "            project_df.at[i, 'Cost'] = 0  # Handle the case where the first value is NaN\n",
    "        else:\n",
    "            project_df.at[i, 'Cost'] = cost_sum / count\n",
    "    else:\n",
    "        cost_sum += project_df.at[i, 'Cost']\n",
    "        count += 1\n",
    "\n",
    "# Save the updated DataFrame\n",
    "project_df.to_csv('Project.csv', index=False)\n",
    "\n",
    "# Display the updated DataFrame\n",
    "print(project_df)\n"
   ]
  },
  {
   "cell_type": "code",
   "execution_count": 295,
   "id": "5c95c766-22eb-4bf1-be98-436a580abbcc",
   "metadata": {},
   "outputs": [],
   "source": [
    "# Task 3: Split the \"Name\" Column in Employee DataFrame"
   ]
  },
  {
   "cell_type": "code",
   "execution_count": 297,
   "id": "cfa28455-16c8-4d6d-991a-614888387edf",
   "metadata": {},
   "outputs": [
    {
     "name": "stdout",
     "output_type": "stream",
     "text": [
      "     ID Gender     City  Age First Name  Last Name\n",
      "0  A001      M    Paris   25       John      Alter\n",
      "1  A002      F   London   27      Alice  Luxumberg\n",
      "2  A003      M   Berlin   29        Tom  Sabestine\n",
      "3  A004      F  Newyork   31       Nina      Adgra\n",
      "4  A005      F   Madrid   30        Amy      Johny\n"
     ]
    }
   ],
   "source": [
    "# Load the employee dataframe\n",
    "employee_df = pd.read_csv('employee.csv')\n",
    "\n",
    "# Split the 'Name' column into 'First Name' and 'Last Name'\n",
    "employee_df[['First Name', 'Last Name']] = employee_df['Name'].str.split(' ', expand=True)\n",
    "\n",
    "#Removing Name coloumn\n",
    "employee_df.drop(columns=['Name'], inplace=True)\n",
    "\n",
    "# Save the updated DataFrame\n",
    "employee_df.to_csv('employee.csv', index=False)\n",
    "\n",
    "print(employee_df)"
   ]
  },
  {
   "cell_type": "code",
   "execution_count": 299,
   "id": "ff86fb1a-83f7-4421-a1dc-f49e80d0ad5e",
   "metadata": {},
   "outputs": [],
   "source": [
    "# Task 4: Join All Three DataFrames"
   ]
  },
  {
   "cell_type": "code",
   "execution_count": 301,
   "id": "e6ca7948-ec22-4b16-97dd-7c36ef28827e",
   "metadata": {},
   "outputs": [
    {
     "name": "stdout",
     "output_type": "stream",
     "text": [
      "      ID     Project          Cost    Status Gender     City  Age First Name  \\\n",
      "0   A001   Project 1  1.002000e+06  Finished      M    Paris   25       John   \n",
      "1   A002   Project 2  2.000000e+06   Ongoing      F   London   27      Alice   \n",
      "2   A003   Project 3  4.500000e+06  Finished      M   Berlin   29        Tom   \n",
      "3   A004   Project 4  5.500000e+06   Ongoing      F  Newyork   31       Nina   \n",
      "4   A005   Project 5  3.250500e+06  Finished      F   Madrid   30        Amy   \n",
      "5   A002   Project 6  6.800000e+05    Failed      F   London   27      Alice   \n",
      "6   A005   Project 7  4.000000e+05  Finished      F   Madrid   30        Amy   \n",
      "7   A003   Project 8  3.500000e+05    Failed      M   Berlin   29        Tom   \n",
      "8   A001   Project 9  2.061714e+06   Ongoing      M    Paris   25       John   \n",
      "9   A003  Project 10  3.000000e+05  Finished      M   Berlin   29        Tom   \n",
      "10  A001  Project 11  2.000000e+06    Failed      M    Paris   25       John   \n",
      "11  A004  Project 12  1.000000e+06   Ongoing      F  Newyork   31       Nina   \n",
      "12  A004  Project 13  3.000000e+06  Finished      F  Newyork   31       Nina   \n",
      "13  A005  Project 14  2.000000e+05  Finished      F   Madrid   30        Amy   \n",
      "\n",
      "    Last Name  Designation Level  \n",
      "0       Alter                  2  \n",
      "1   Luxumberg                  2  \n",
      "2   Sabestine                  3  \n",
      "3       Adgra                  2  \n",
      "4       Johny                  3  \n",
      "5   Luxumberg                  2  \n",
      "6       Johny                  3  \n",
      "7   Sabestine                  3  \n",
      "8       Alter                  2  \n",
      "9   Sabestine                  3  \n",
      "10      Alter                  2  \n",
      "11      Adgra                  2  \n",
      "12      Adgra                  2  \n",
      "13      Johny                  3  \n"
     ]
    }
   ],
   "source": [
    "# Load the CSV files\n",
    "project_df = pd.read_csv('project.csv')\n",
    "employee_df = pd.read_csv('employee.csv')\n",
    "seniority_df = pd.read_csv('seniority.csv')\n",
    "\n",
    "# Merge the dataframes\n",
    "merge_df = pd.merge(project_df, employee_df, on='ID')\n",
    "final_df = pd.merge(merge_df, seniority_df, on='ID')\n",
    "\n",
    "# Save the final DataFrame\n",
    "final_df.to_csv('final.csv', index=False)\n",
    "print(final_df)"
   ]
  },
  {
   "cell_type": "code",
   "execution_count": 303,
   "id": "79af86dc-d196-45b4-8cdb-05146f868240",
   "metadata": {},
   "outputs": [],
   "source": [
    "# Task 5: Add Bonus Column for Finished Projects"
   ]
  },
  {
   "cell_type": "code",
   "execution_count": 305,
   "id": "8795c5c9-06c3-403b-a9a4-342209dfed2e",
   "metadata": {},
   "outputs": [
    {
     "name": "stdout",
     "output_type": "stream",
     "text": [
      "      ID     Project          Cost    Status Gender     City  Age First Name  \\\n",
      "0   A001   Project 1  1.002000e+06  Finished      M    Paris   25       John   \n",
      "1   A002   Project 2  2.000000e+06   Ongoing      F   London   27      Alice   \n",
      "2   A003   Project 3  4.500000e+06  Finished      M   Berlin   29        Tom   \n",
      "3   A004   Project 4  5.500000e+06   Ongoing      F  Newyork   31       Nina   \n",
      "4   A005   Project 5  3.250500e+06  Finished      F   Madrid   30        Amy   \n",
      "5   A002   Project 6  6.800000e+05    Failed      F   London   27      Alice   \n",
      "6   A005   Project 7  4.000000e+05  Finished      F   Madrid   30        Amy   \n",
      "7   A003   Project 8  3.500000e+05    Failed      M   Berlin   29        Tom   \n",
      "8   A001   Project 9  2.061714e+06   Ongoing      M    Paris   25       John   \n",
      "9   A003  Project 10  3.000000e+05  Finished      M   Berlin   29        Tom   \n",
      "10  A001  Project 11  2.000000e+06    Failed      M    Paris   25       John   \n",
      "11  A004  Project 12  1.000000e+06   Ongoing      F  Newyork   31       Nina   \n",
      "12  A004  Project 13  3.000000e+06  Finished      F  Newyork   31       Nina   \n",
      "13  A005  Project 14  2.000000e+05  Finished      F   Madrid   30        Amy   \n",
      "\n",
      "    Last Name  Designation Level     Bonus  \n",
      "0       Alter                  2   50100.0  \n",
      "1   Luxumberg                  2       0.0  \n",
      "2   Sabestine                  3  225000.0  \n",
      "3       Adgra                  2       0.0  \n",
      "4       Johny                  3  162525.0  \n",
      "5   Luxumberg                  2       0.0  \n",
      "6       Johny                  3   20000.0  \n",
      "7   Sabestine                  3       0.0  \n",
      "8       Alter                  2       0.0  \n",
      "9   Sabestine                  3   15000.0  \n",
      "10      Alter                  2       0.0  \n",
      "11      Adgra                  2       0.0  \n",
      "12      Adgra                  2  150000.0  \n",
      "13      Johny                  3   10000.0  \n"
     ]
    }
   ],
   "source": [
    "# Load the final dataframe\n",
    "final_df = pd.read_csv('final.csv')\n",
    "\n",
    "# Add the bonus column\n",
    "final_df['Bonus'] = np.where(final_df['Status'] == 'Finished', final_df['Cost'] * 0.05, 0)\n",
    "\n",
    "# Save the updated DataFrame\n",
    "final_df.to_csv('final.csv', index=False)\n",
    "print(final_df)"
   ]
  },
  {
   "cell_type": "code",
   "execution_count": 307,
   "id": "d374cf76-71a4-4090-9eb4-bdb3514588c4",
   "metadata": {},
   "outputs": [],
   "source": [
    "# Task 6: Demote Designation Level for Failed Projects and Delete Records Above Level 4"
   ]
  },
  {
   "cell_type": "code",
   "execution_count": 309,
   "id": "729cf5b4-bde3-4fd8-ac5b-68934a9a7eb4",
   "metadata": {},
   "outputs": [
    {
     "name": "stdout",
     "output_type": "stream",
     "text": [
      "      ID     Project          Cost    Status Gender     City  Age First Name  \\\n",
      "0   A001   Project 1  1.002000e+06  Finished      M    Paris   25       John   \n",
      "1   A002   Project 2  2.000000e+06   Ongoing      F   London   27      Alice   \n",
      "2   A003   Project 3  4.500000e+06  Finished      M   Berlin   29        Tom   \n",
      "3   A004   Project 4  5.500000e+06   Ongoing      F  Newyork   31       Nina   \n",
      "4   A005   Project 5  3.250500e+06  Finished      F   Madrid   30        Amy   \n",
      "5   A002   Project 6  6.800000e+05    Failed      F   London   27      Alice   \n",
      "6   A005   Project 7  4.000000e+05  Finished      F   Madrid   30        Amy   \n",
      "7   A003   Project 8  3.500000e+05    Failed      M   Berlin   29        Tom   \n",
      "8   A001   Project 9  2.061714e+06   Ongoing      M    Paris   25       John   \n",
      "9   A003  Project 10  3.000000e+05  Finished      M   Berlin   29        Tom   \n",
      "10  A001  Project 11  2.000000e+06    Failed      M    Paris   25       John   \n",
      "11  A004  Project 12  1.000000e+06   Ongoing      F  Newyork   31       Nina   \n",
      "12  A004  Project 13  3.000000e+06  Finished      F  Newyork   31       Nina   \n",
      "13  A005  Project 14  2.000000e+05  Finished      F   Madrid   30        Amy   \n",
      "\n",
      "    Last Name  Designation Level     Bonus  \n",
      "0       Alter                  2   50100.0  \n",
      "1   Luxumberg                  2       0.0  \n",
      "2   Sabestine                  3  225000.0  \n",
      "3       Adgra                  2       0.0  \n",
      "4       Johny                  3  162525.0  \n",
      "5   Luxumberg                  1       0.0  \n",
      "6       Johny                  3   20000.0  \n",
      "7   Sabestine                  2       0.0  \n",
      "8       Alter                  2       0.0  \n",
      "9   Sabestine                  3   15000.0  \n",
      "10      Alter                  1       0.0  \n",
      "11      Adgra                  2       0.0  \n",
      "12      Adgra                  2  150000.0  \n",
      "13      Johny                  3   10000.0  \n"
     ]
    }
   ],
   "source": [
    "# Demote the designation level by 1 for projects with status \"Fail\"\n",
    "final_df.loc[final_df['Status'] == 'Failed', 'Designation Level'] -= 1\n",
    "\n",
    "# Delete the employees record whose designation level is above 4\n",
    "final_df = final_df[final_df['Designation Level'] <= 4]\n",
    "\n",
    "# Save the updated DataFrame to the CSV file\n",
    "final_df.to_csv('Final.csv', index=False)\n",
    "\n",
    "# Display the updated DataFrame\n",
    "print(final_df)\n"
   ]
  },
  {
   "cell_type": "code",
   "execution_count": 311,
   "id": "1e200fa3-ea85-4519-ad12-8bea25dfb2e8",
   "metadata": {},
   "outputs": [],
   "source": [
    "# Task 7: Add Prefix to First Name and Drop Gender Column"
   ]
  },
  {
   "cell_type": "code",
   "execution_count": 313,
   "id": "c199385c-2802-4480-b5df-2279b05c751e",
   "metadata": {},
   "outputs": [
    {
     "name": "stdout",
     "output_type": "stream",
     "text": [
      "      ID     Project          Cost    Status     City  Age  First Name  \\\n",
      "0   A001   Project 1  1.002000e+06  Finished    Paris   25    Mr. John   \n",
      "1   A002   Project 2  2.000000e+06   Ongoing   London   27  Mrs. Alice   \n",
      "2   A003   Project 3  4.500000e+06  Finished   Berlin   29     Mr. Tom   \n",
      "3   A004   Project 4  5.500000e+06   Ongoing  Newyork   31   Mrs. Nina   \n",
      "4   A005   Project 5  3.250500e+06  Finished   Madrid   30    Mrs. Amy   \n",
      "5   A002   Project 6  6.800000e+05    Failed   London   27  Mrs. Alice   \n",
      "6   A005   Project 7  4.000000e+05  Finished   Madrid   30    Mrs. Amy   \n",
      "7   A003   Project 8  3.500000e+05    Failed   Berlin   29     Mr. Tom   \n",
      "8   A001   Project 9  2.061714e+06   Ongoing    Paris   25    Mr. John   \n",
      "9   A003  Project 10  3.000000e+05  Finished   Berlin   29     Mr. Tom   \n",
      "10  A001  Project 11  2.000000e+06    Failed    Paris   25    Mr. John   \n",
      "11  A004  Project 12  1.000000e+06   Ongoing  Newyork   31   Mrs. Nina   \n",
      "12  A004  Project 13  3.000000e+06  Finished  Newyork   31   Mrs. Nina   \n",
      "13  A005  Project 14  2.000000e+05  Finished   Madrid   30    Mrs. Amy   \n",
      "\n",
      "    Last Name  Designation Level     Bonus  \n",
      "0       Alter                  2   50100.0  \n",
      "1   Luxumberg                  2       0.0  \n",
      "2   Sabestine                  3  225000.0  \n",
      "3       Adgra                  2       0.0  \n",
      "4       Johny                  3  162525.0  \n",
      "5   Luxumberg                  1       0.0  \n",
      "6       Johny                  3   20000.0  \n",
      "7   Sabestine                  2       0.0  \n",
      "8       Alter                  2       0.0  \n",
      "9   Sabestine                  3   15000.0  \n",
      "10      Alter                  1       0.0  \n",
      "11      Adgra                  2       0.0  \n",
      "12      Adgra                  2  150000.0  \n",
      "13      Johny                  3   10000.0  \n"
     ]
    }
   ],
   "source": [
    "# Add \"Mr.\" or \"Mrs.\" to the \"First Name\" based on gender\n",
    "final_df['First Name'] = final_df.apply(lambda row: 'Mr. ' + row['First Name'] if row['Gender'] == 'M' else 'Mrs. ' + row['First Name'], axis=1)\n",
    "\n",
    "# Drop the \"Gender\" column\n",
    "final_df.drop(columns=['Gender'], inplace=True)\n",
    "\n",
    "# Save the updated DataFrame to the CSV file\n",
    "final_df.to_csv('Final.csv', index=False)\n",
    "\n",
    "# Display the updated DataFrame\n",
    "print(final_df)\n"
   ]
  },
  {
   "cell_type": "code",
   "execution_count": 315,
   "id": "bb0c8c66-6751-42cb-abc5-7fb6a3eb2cbd",
   "metadata": {},
   "outputs": [],
   "source": [
    "# Task 8: Promote Designation Level by 1 for Employees Older than 29 Years"
   ]
  },
  {
   "cell_type": "code",
   "execution_count": 317,
   "id": "832fd70d-12c6-4585-842e-f6343d938946",
   "metadata": {},
   "outputs": [
    {
     "name": "stdout",
     "output_type": "stream",
     "text": [
      "      ID     Project          Cost    Status     City  Age  First Name  \\\n",
      "0   A001   Project 1  1.002000e+06  Finished    Paris   25    Mr. John   \n",
      "1   A002   Project 2  2.000000e+06   Ongoing   London   27  Mrs. Alice   \n",
      "2   A003   Project 3  4.500000e+06  Finished   Berlin   29     Mr. Tom   \n",
      "3   A004   Project 4  5.500000e+06   Ongoing  Newyork   31   Mrs. Nina   \n",
      "4   A005   Project 5  3.250500e+06  Finished   Madrid   30    Mrs. Amy   \n",
      "5   A002   Project 6  6.800000e+05    Failed   London   27  Mrs. Alice   \n",
      "6   A005   Project 7  4.000000e+05  Finished   Madrid   30    Mrs. Amy   \n",
      "7   A003   Project 8  3.500000e+05    Failed   Berlin   29     Mr. Tom   \n",
      "8   A001   Project 9  2.061714e+06   Ongoing    Paris   25    Mr. John   \n",
      "9   A003  Project 10  3.000000e+05  Finished   Berlin   29     Mr. Tom   \n",
      "10  A001  Project 11  2.000000e+06    Failed    Paris   25    Mr. John   \n",
      "11  A004  Project 12  1.000000e+06   Ongoing  Newyork   31   Mrs. Nina   \n",
      "12  A004  Project 13  3.000000e+06  Finished  Newyork   31   Mrs. Nina   \n",
      "13  A005  Project 14  2.000000e+05  Finished   Madrid   30    Mrs. Amy   \n",
      "\n",
      "    Last Name  Designation Level     Bonus  \n",
      "0       Alter                  2   50100.0  \n",
      "1   Luxumberg                  2       0.0  \n",
      "2   Sabestine                  3  225000.0  \n",
      "3       Adgra                  3       0.0  \n",
      "4       Johny                  4  162525.0  \n",
      "5   Luxumberg                  1       0.0  \n",
      "6       Johny                  4   20000.0  \n",
      "7   Sabestine                  2       0.0  \n",
      "8       Alter                  2       0.0  \n",
      "9   Sabestine                  3   15000.0  \n",
      "10      Alter                  1       0.0  \n",
      "11      Adgra                  3       0.0  \n",
      "12      Adgra                  3  150000.0  \n",
      "13      Johny                  4   10000.0  \n"
     ]
    }
   ],
   "source": [
    "# Promote designation level by 1 for employees whose age is more than 29 years\n",
    "final_df.loc[final_df['Age'] > 29, 'Designation Level'] += 1\n",
    "\n",
    "# Save the updated DataFrame to the CSV file\n",
    "final_df.to_csv('Final.csv', index=False)\n",
    "\n",
    "# Display the updated DataFrame\n",
    "print(final_df)\n"
   ]
  },
  {
   "cell_type": "code",
   "execution_count": 319,
   "id": "bc1cdffc-9a36-4fb3-8672-a8f73133b05d",
   "metadata": {},
   "outputs": [],
   "source": [
    "# Task 9: Calculate the Total Cost of All Projects for Each Employee"
   ]
  },
  {
   "cell_type": "code",
   "execution_count": 321,
   "id": "b2d35e8c-6129-4548-accd-7ae32eb3c552",
   "metadata": {},
   "outputs": [
    {
     "name": "stdout",
     "output_type": "stream",
     "text": [
      "     ID    Total Cost  First Name\n",
      "0  A001  5.063714e+06    Mr. John\n",
      "1  A002  2.680000e+06  Mrs. Alice\n",
      "2  A003  5.150000e+06     Mr. Tom\n",
      "3  A004  9.500000e+06   Mrs. Nina\n",
      "4  A005  3.850500e+06    Mrs. Amy\n"
     ]
    }
   ],
   "source": [
    "# Calculate the total cost of all projects for each employee\n",
    "total_proj_cost = final_df.groupby('ID').agg({'Cost': 'sum', 'First Name': 'first'}).reset_index()\n",
    "total_proj_cost.rename(columns={'Cost': 'Total Cost'}, inplace=True)\n",
    "\n",
    "# Save the new DataFrame to a CSV file\n",
    "total_proj_cost.to_csv('TotalProjCost.csv', index=False)\n",
    "\n",
    "# Display the new DataFrame\n",
    "print(total_proj_cost)\n"
   ]
  },
  {
   "cell_type": "code",
   "execution_count": 323,
   "id": "b5e0ce03-40bb-4b6f-b522-445fdb112b80",
   "metadata": {},
   "outputs": [],
   "source": [
    "# Task 10: Print Employee Details for Cities Containing the Letter \"o\""
   ]
  },
  {
   "cell_type": "code",
   "execution_count": 325,
   "id": "4c58ef5a-ac85-47e6-a4ae-dee27b0dd875",
   "metadata": {},
   "outputs": [
    {
     "name": "stdout",
     "output_type": "stream",
     "text": [
      "      ID     Project       Cost    Status     City  Age  First Name  \\\n",
      "1   A002   Project 2  2000000.0   Ongoing   London   27  Mrs. Alice   \n",
      "3   A004   Project 4  5500000.0   Ongoing  Newyork   31   Mrs. Nina   \n",
      "5   A002   Project 6   680000.0    Failed   London   27  Mrs. Alice   \n",
      "11  A004  Project 12  1000000.0   Ongoing  Newyork   31   Mrs. Nina   \n",
      "12  A004  Project 13  3000000.0  Finished  Newyork   31   Mrs. Nina   \n",
      "\n",
      "    Last Name  Designation Level     Bonus  \n",
      "1   Luxumberg                  2       0.0  \n",
      "3       Adgra                  3       0.0  \n",
      "5   Luxumberg                  1       0.0  \n",
      "11      Adgra                  3       0.0  \n",
      "12      Adgra                  3  150000.0  \n"
     ]
    }
   ],
   "source": [
    "# Filter and print the employee details whose city name contains the letter \"o\"\n",
    "filtered_df = final_df[final_df['City'].str.contains('o', case=False)]\n",
    "\n",
    "# Display the filtered DataFrame\n",
    "print(filtered_df)\n"
   ]
  },
  {
   "cell_type": "code",
   "execution_count": null,
   "id": "88f5cf6c-6c67-4ebe-ad48-e0649294366b",
   "metadata": {},
   "outputs": [],
   "source": []
  },
  {
   "cell_type": "code",
   "execution_count": null,
   "id": "00ac79ad-d0c2-48e9-90c6-26f38b40cde3",
   "metadata": {},
   "outputs": [],
   "source": []
  }
 ],
 "metadata": {
  "kernelspec": {
   "display_name": "Python 3 (ipykernel)",
   "language": "python",
   "name": "python3"
  },
  "language_info": {
   "codemirror_mode": {
    "name": "ipython",
    "version": 3
   },
   "file_extension": ".py",
   "mimetype": "text/x-python",
   "name": "python",
   "nbconvert_exporter": "python",
   "pygments_lexer": "ipython3",
   "version": "3.12.4"
  }
 },
 "nbformat": 4,
 "nbformat_minor": 5
}
